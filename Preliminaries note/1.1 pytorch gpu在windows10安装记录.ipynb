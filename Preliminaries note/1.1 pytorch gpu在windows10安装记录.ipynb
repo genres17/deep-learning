{
 "cells": [
  {
   "cell_type": "markdown",
   "metadata": {},
   "source": [
    "## 关于pytorch gpu版在Windows10下的安装记录\n",
    "***\n",
    "__1. 查看电脑显卡对应的CUDA驱动版本__\n",
    "\n",
    "<img src=\"../img/2.1.png\" width=\"50%\">\n",
    "\n",
    "<img src=\"../img/2.2.png\" width=\"50%\">\n",
    "\n",
    "__2. 下载安装CUDA__\n",
    "\n",
    "下载地址：[CUDA下载](https://developer.nvidia.com/cuda-downloads?target_os=Windows&target_arch=x86_64&target_version=10&target_type=exelocal) 大小约为2.6GB，下载会很久的\n",
    "<img src=\"../img/2.3.png\" width=\"50%\">\n",
    "<img src=\"../img/2.4.png\" width=\"50%\">\n",
    "验证是否安装成功\n",
    "<img src=\"../img/2.5.png\" width=\"50%\">\n",
    "\n",
    "__3. 下载cuDNN__\n",
    "\n",
    "下载地址:[cuDNN下载](https://developer.nvidia.com/rdp/cudnn-archive)\n",
    "\n",
    "下载结束后，将解压的文件解压到上面CUDA目录下:C:\\Program Files\\NVIDIA GPU Computing Toolkit\\CUDA\\v11.0（最后一个文件夹可能因为版本不同不一样）\n",
    "\n",
    "__4.确认安装情况__\n",
    "\n",
    "<img src=\"../img/2.6.png\" width=\"50%\">"
   ]
  }
 ],
 "metadata": {
  "kernelspec": {
   "display_name": "Python [conda env:root] *",
   "language": "python",
   "name": "conda-root-py"
  },
  "language_info": {
   "codemirror_mode": {
    "name": "ipython",
    "version": 3
   },
   "file_extension": ".py",
   "mimetype": "text/x-python",
   "name": "python",
   "nbconvert_exporter": "python",
   "pygments_lexer": "ipython3",
   "version": "3.7.6"
  },
  "toc": {
   "base_numbering": 1.0,
   "nav_menu": {},
   "number_sections": true,
   "sideBar": true,
   "skip_h1_title": false,
   "title_cell": "Table of Contents",
   "title_sidebar": "Contents",
   "toc_cell": false,
   "toc_position": {},
   "toc_section_display": true,
   "toc_window_display": false
  }
 },
 "nbformat": 4,
 "nbformat_minor": 4
}
